{
  "nbformat": 4,
  "nbformat_minor": 0,
  "metadata": {
    "colab": {
      "provenance": []
    },
    "kernelspec": {
      "name": "python3",
      "display_name": "Python 3"
    },
    "language_info": {
      "name": "python"
    }
  },
  "cells": [
    {
      "cell_type": "markdown",
      "source": [
        "1. What is the difference between interpreted and compiled languages?\n",
        "  - Compiled languages are converted into machine code by a compiler before running, making them faster to execute. Examples: C, C++, Rust.\n",
        "\n",
        "   - Interpreted languages are translated line-by-line by an interpreter during execution, which tends to make them slower. Examples: Python, JavaScript.\n",
        "\n",
        "Key differences:\n",
        "\n",
        "1.Speed: Compiled languages run faster.\n",
        "\n",
        "2.Development: Interpreted languages are easier to debug and test.\n",
        "\n",
        "3.Portability: Interpreted languages are often more portable."
      ],
      "metadata": {
        "id": "gF3Z38-dc-ma"
      }
    },
    {
      "cell_type": "markdown",
      "source": [
        "2. What is exception handling in Python0?\n",
        "\n",
        "  - Exception handling in Python is a mechanism that allows you to manage errors or exceptional situations that may arise during the execution of a program. Instead of letting the program crash when an error occurs, Python provides tools to catch and handle errors gracefully.\n",
        "\n",
        "The primary components of exception handling in Python are:\n",
        "\n",
        "1.try: This block contains the code that might raise an exception.\n",
        "\n",
        "2.except: This block contains the code that handles the exception if it occurs. You can catch specific exceptions or all exceptions.\n",
        "\n",
        "3.else: This block is executed if no exception occurs in the try block.\n",
        "\n",
        "4.finally: This block is executed no matter what, whether an exception occurs or not. It's typically used for cleanup actions, like closing files or releasing resources."
      ],
      "metadata": {
        "id": "x_G38n8uexy6"
      }
    },
    {
      "cell_type": "markdown",
      "source": [
        "3.  What is the purpose of the finally block in exception handling?\n",
        "  - In exception handling, the finally block is used to define code that will always be executed, regardless of whether an exception is raised or not. This ensures that certain actions, like cleaning up resources, closing files, or releasing connections, are always performed.\n",
        "\n",
        "Here's a breakdown of its purpose:\n",
        "\n",
        "  - Guaranteed Execution: The code inside the finally block will always run, no matter what—whether an exception was raised and caught, or if the try block completes without any issue.\n",
        "  - Resource Cleanup: It's often used for actions like closing database connections, files, or releasing system resources that need to be cleaned up regardless of success or failure.\n",
        "Here’s a simple example:\n"
      ],
      "metadata": {
        "id": "1tYOjk4qmLee"
      }
    },
    {
      "cell_type": "markdown",
      "source": [
        "4.  What is logging in Python?\n",
        " - Logging in Python is a way to record events or messages that happen during the execution of a program. It helps developers track what is happening in their code, especially for debugging, error tracking, and general information about how a program is running. It can be useful in production environments where you want to keep track of errors, performance, and other important events.\n",
        "\n",
        "Python has a built-in module called logging that allows you to log messages at different severity levels. These levels include:\n",
        "\n",
        "1.DEBUG: Detailed information, typically useful only when diagnosing problems.\n",
        "\n",
        "2.INFO: General information about the program’s progress or status.\n",
        "\n",
        "3.WARNING: An indication that something unexpected happened, or there might be a potential issue.\n",
        "\n",
        "\n",
        "4.ERROR: A more serious problem that prevents the program from performing a specific task.\n",
        "\n",
        "5.CRITICAL: A very serious error that may cause the program to stop."
      ],
      "metadata": {
        "id": "77Y0Jw7lrqkX"
      }
    },
    {
      "cell_type": "markdown",
      "source": [
        "5. What is the significance of the __del__ method in Python?\n",
        " - In Python, the __del__ method is a special method that serves as the destructor for an object. It is called when an object is about to be destroyed, which typically happens when the object's reference count reaches zero (i.e., when no other references to the object exist, and it is about to be garbage collected).\n",
        "\n",
        "Significance of __del__:\n",
        "\n",
        "1.Resource Cleanup: It provides an opportunity to clean up external resources (such as closing files, releasing network connections, or freeing memory) before the object is deleted. This is useful when you have resources that need explicit cleanup, and Python's garbage collector doesn't automatically handle these resources.\n",
        "\n",
        "2.Automatic Invocation: You don't manually call __del__. Instead, it is invoked automatically by Python when the object is about to be destroyed. This is especially helpful for managing resources that would otherwise require explicit cleanup code.\n"
      ],
      "metadata": {
        "id": "lvbNC_e7sZd1"
      }
    },
    {
      "cell_type": "markdown",
      "source": [
        "6.What is the difference between import and from ... import in Python?\n",
        " - In Python, both import and from ... import are used to bring modules or specific functions/classes/variables from modules into your current namespace, but they work slightly differently. Here's a breakdown of the difference:\n",
        "\n",
        "1. import:\n",
        "Syntax: import module_name\n",
        "This imports the entire module into the namespace.\n",
        "\n",
        " 2. from ... import:\n",
        "Syntax: from module_name import specific_name\n",
        "This imports a specific function, class, or variable directly into the current namespace.\n",
        "You don't need to use the module name as a prefix to access the imported item.\n",
        "\n"
      ],
      "metadata": {
        "id": "QfpjijbsstRs"
      }
    },
    {
      "cell_type": "markdown",
      "source": [
        "7. How can you handle multiple exceptions in Python?\n",
        " - 1.Multiple except blocks – Handle each exception type individually.\n",
        "2.Tuple of exceptions – Catch multiple exceptions in one block using a tuple.\n",
        "3.Catch all exceptions – Use except Exception to catch all exceptions (not recommended for debugging).\n",
        "4.else block – Executes if no exception occurs in the try block.\n",
        "5.finally block – Always executes, regardless of whether an exception occurred.\n"
      ],
      "metadata": {
        "id": "nRfHNNIttFeN"
      }
    },
    {
      "cell_type": "markdown",
      "source": [
        "8. 8. What is the purpose of the with statement when handling files in Python0 ?\n",
        "  - 1.Automatic resource management: Ensures files are closed after use.\n",
        "\n",
        "2.Handles exceptions: Closes the file even if an error occurs.\n",
        "\n",
        "3.Cleaner code: Eliminates the need for explicit file.close() calls.\n",
        "\n",
        "4.Improved readability: Clearly defines the file usage scope."
      ],
      "metadata": {
        "id": "xcAclZSquiud"
      }
    },
    {
      "cell_type": "markdown",
      "source": [
        "9.  What is the difference between multithreading and multiprocessing0 ?\n",
        "  - Multithreading:\n",
        "\n",
        "- Definition: Executes multiple threads within a single process.\n",
        "\n",
        "- Memory: Threads share the same memory.\n",
        "\n",
        "- Use Case: Best for I/O-bound tasks (e.g., file or network operations).\n",
        "\n",
        "- Parallelism: Limited by the Global Interpreter Lock (GIL) in some environments like Python.\n",
        "\n",
        " - multiprocessing:\n",
        "\n",
        "- Definition: Uses separate processes, each with its own memory.\n",
        "\n",
        "- Memory: Processes don’t share memory.\n",
        "\n",
        "- Use Case: Ideal for CPU-bound tasks (e.g., data processing).\n",
        "\n",
        "- Parallelism: True parallelism across multiple CPU cores.\n"
      ],
      "metadata": {
        "id": "qrK2-N2WvdLU"
      }
    },
    {
      "cell_type": "markdown",
      "source": [
        "10. What are the advantages of using logging in a program\n",
        "- 1.Debugging: Helps trace issues and errors in the program.\n",
        "- 2.Monitoring: Tracks program usage and performance.\n",
        "- 3.Error Handling: Captures detailed error info for better handling.\n",
        "- 4.Performance Analysis: Identifies bottlenecks and optimizes performance.\n",
        "- 5.Maintainability: Eases future updates and understanding of code behavior.\n",
        "- 6.Separation of Concerns: Keeps debugging output separate from main code.\n",
        "- 7.Traceability: Provides a history of program execution.\n",
        "- 8.Security: Logs security events like unauthorized access attempts.\n",
        "- 9.Flexibility: Allows configurable output levels and destinations.\n",
        "- 10.Long-Term Insights: Collects data for trend analysis and system optimization.\n",
        "\n"
      ],
      "metadata": {
        "id": "T9GIW81fSLKh"
      }
    },
    {
      "cell_type": "markdown",
      "source": [
        "11. What is memory management in Python?\n",
        "- 1.Automatic Garbage Collection: Python automatically reclaims memory for objects that are no longer in use.\n",
        "\n",
        "- 2.Reference Counting: Tracks the number of references to an object. When it reaches zero, memory is freed.\n",
        "\n",
        "- 3.Memory Pooling: Reuses memory for small objects to optimize allocation/deallocation.\n",
        "\n",
        "- 3.Object-Specific Management: Built-in objects like lists and dictionaries have their own memory handling mechanisms.\n",
        "\n",
        "- 4.gc Module: Python provides a garbage collector to handle cyclic references.\n",
        "\n",
        "- 5.Efficient Allocation: Python uses specialized memory allocators for built-in types like integers and strings.\n"
      ],
      "metadata": {
        "id": "U2VmuTAgTugE"
      }
    },
    {
      "cell_type": "markdown",
      "source": [
        "12.  What are the basic steps involved in exception handling in Python?\n",
        "- In Python, exception handling is a mechanism that allows you to manage errors gracefully, without crashing the program. The basic steps involved in exception handling are:\n",
        "\n",
        "1.Try Block:\n",
        "\n",
        "You write the code that might cause an error within the try block.  If an error occurs, Python immediately stops executing the code inside the try block and moves to the except block.\n",
        "\n",
        "2.Except Block:\n",
        "\n",
        "You define one or more except blocks to handle specific types of exceptions that might arise.\n",
        "Each except block catches a specific exception, and the corresponding code inside the block executes when that exception occurs.\n",
        "\n",
        "3.Else Block (optional):\n",
        "\n",
        "This block runs if no exception occurs in the try block.\n",
        "It is useful for code that should run only when the try block executes successfully.\n",
        "\n",
        "4.Finally Block (optional):\n",
        "\n",
        "The finally block will always execute, regardless of whether an exception occurred or not.\n",
        "It's typically used for clean-up activities, such as closing files or releasing resources.\n"
      ],
      "metadata": {
        "id": "Mv_qsRfFUTTA"
      }
    },
    {
      "cell_type": "markdown",
      "source": [
        "13.  Why is memory management important in Python?\n",
        " - Here’s a brief summary of why memory management is important in Python:\n",
        "\n",
        "- 1.Efficient Resource Use: Ensures optimal use of system memory.\n",
        "- 2.Prevents Memory Leaks: Helps avoid memory buildup due to unfreed objects.\n",
        "- 3.mproves Performance: Reduces unnecessary memory usage, speeding up programs.\n",
        "- 4.Handles Large Data: Efficient memory management is crucial for working with large datasets.\n",
        "- 5.Prevents Resource Contention: Ensures proper memory allocation in multi-threaded or multi-process applications.\n",
        "- 6.Simplifies Development: Automatic garbage collection reduces the need for manual memory management."
      ],
      "metadata": {
        "id": "8CwdJttnWG0j"
      }
    },
    {
      "cell_type": "markdown",
      "source": [
        "14.  What is the role of try and except in exception handling?\n",
        "  - In Python, try and except are used for exception handling, allowing you to handle errors (exceptions) that may arise during the execution of your program.\n",
        "\n",
        "Here's a breakdown of their roles:\n",
        "\n",
        "- 1.try block:\n",
        "\n",
        "    The code that might cause an exception is placed inside the try block.\n",
        "If an error occurs while the code in the try block is executing, Python will stop the execution of that block and jump to the corresponding except block.\n",
        "If no exception occurs, the except block is skipped, and the code continues to execute normally.\n",
        "\n",
        "- 2.except block:\n",
        "\n",
        "  The except block specifies the actions to take if an exception occurs in the try block.\n",
        "You can handle specific types of exceptions by specifying them after except. If a specific exception occurs, the corresponding code in the except block will run.\n",
        "You can also use a generic except to catch all exceptions, though it's better to catch specific exceptions when possible for more precise error handling.\n"
      ],
      "metadata": {
        "id": "qei9zvYkXh7x"
      }
    },
    {
      "cell_type": "markdown",
      "source": [
        "15.  How does Python's garbage collection system work?\n",
        "- Here’s a short brief on Python's garbage collection system:\n",
        "\n",
        "1.Reference Counting: Tracks how many references exist to an object. When the count drops to zero, the object is deallocated.\n",
        "\n",
        "2.Cyclic Garbage Collection: Detects and handles circular references (objects that reference each other).\n",
        "\n",
        "3.Generations: Objects are grouped into 3 generations. Younger objects are collected more frequently than older ones.\n",
        "\n",
        "4.Manual Control: The gc module allows you to control garbage collection, e.g., force collection (gc.collect()) or disable it (gc.disable()).\n",
        "\n",
        "5.Weak References: The weakref module lets objects be referenced without affecting their reference count, allowing for better memory management."
      ],
      "metadata": {
        "id": "dSbzsmkNZBIL"
      }
    },
    {
      "cell_type": "markdown",
      "source": [
        "16. What is the purpose of the else block in exception handling?\n",
        " - In exception handling, the else block is used to define code that should be executed if no exceptions were raised in the try block.\n",
        "\n",
        "Here's the flow:\n",
        "\n",
        "1.try block: Code that might raise an exception is placed here.\n",
        "\n",
        "2.except block: If an exception occurs in the try block, the code in the except block is executed.\n",
        "\n",
        "3.else block: If no exception occurs in the try block, the code in the else block is executed. It’s used to run code that should only execute when the try block is successful and without errors.\n",
        "\n",
        "4.finally block (optional): This block is always executed, regardless of whether an exception occurred or not, and is typically used for cleanup actions.\n"
      ],
      "metadata": {
        "id": "k5Z3uC69cRwX"
      }
    },
    {
      "cell_type": "markdown",
      "source": [
        "17.  What are the common logging levels in Python/\n",
        "  - In Python, the logging module defines several logging levels, which indicate the severity of events being logged. These levels, from highest to lowest, are:\n",
        "\n",
        "1.CRITICAL: 50\n",
        "Used for very serious errors that may prevent the program from continuing. These are usually critical issues, such as system failures.\n",
        "\n",
        "2.ERROR: 40\n",
        "Indicates a more serious problem that has occurred, but the program can still continue running. This might be an exception or failure in the program's operation.\n",
        "\n",
        "3.WARNING: 30\n",
        "Used for warnings about conditions that aren’t necessarily errors but might lead to problems in the future. It’s often used to indicate potentially unexpected or undesirable behavior.\n",
        "\n",
        "4.INFO: 20\n",
        "Used for general information about the program's progress, such as what actions it’s currently performing. This level is often used for logging normal operations or checkpoints.\n",
        "\n",
        "5.DEBUG: 10\n",
        "Provides detailed diagnostic information, typically useful for developers to troubleshoot issues. These messages include information about the internal state of the program.\n",
        "\n",
        "6.NOTSET: 0\n",
        "This is the lowest level and means that no particular level is set. If the logger is set to NOTSET, it will process all messages of any level.\n"
      ],
      "metadata": {
        "id": "nwKxUdgUdbTN"
      }
    },
    {
      "cell_type": "markdown",
      "source": [
        "18.  What is the difference between os.fork() and multiprocessing in Python?\n",
        "  - The key differences between os.fork() and multiprocessing in Python:\n",
        "\n",
        "1.Platform: os.fork() works only on Unix-like systems (Linux, macOS), while multiprocessing is cross-platform (works on both Unix and Windows).\n",
        "\n",
        "2.Level of Abstraction: os.fork() is low-level and gives you direct control over process creation. multiprocessing is high-level and abstracts much of the complexity, making it easier to use.\n",
        "\n",
        "3.Memory: os.fork() shares memory between the parent and child (copy-on-write), while multiprocessing creates separate memory spaces for each process.\n",
        "\n",
        "4.Inter-Process Communication: os.fork() requires manual handling (e.g., pipes), while multiprocessing has built-in features like Queue and Pipe for easier communication.\n"
      ],
      "metadata": {
        "id": "aYpwFB3feX1b"
      }
    },
    {
      "cell_type": "markdown",
      "source": [
        "19.  What is the importance of closing a file in Python?\n",
        " - Closing a file in Python is important for several reasons:\n",
        "\n",
        "1.Releasing System Resources: When you open a file, the operating system allocates resources (like memory and file handles) to manage that file. Closing the file releases these resources back to the system, preventing resource leaks.\n",
        "\n",
        "2.Ensuring Data is Saved: When you write to a file, the data may not be immediately written to disk. Python buffers the data for performance reasons. Closing the file ensures that all data is properly flushed and saved to the file.\n",
        "\n",
        "3.Avoiding File Corruption: If you don’t close a file properly, there’s a risk that some changes you made to the file might not be written, or the file might be left in an inconsistent state. Closing it ensures everything is committed correctly.\n",
        "\n",
        "4.Preventing File Locking: On some systems, files can be locked when open, meaning that other programs or processes may not be able to access the file until it is closed.\n",
        "\n",
        "5.Cleaner Code: Explicitly closing files makes the code more maintainable and clear about when resources are released.\n"
      ],
      "metadata": {
        "id": "tNGYBddNe9mK"
      }
    },
    {
      "cell_type": "markdown",
      "source": [
        "20. What is the difference between file.read() and file.readline() in Python?\n",
        " - In Python, both file.read() and file.readline() are used to read data from a file, but they behave differently:\n",
        "\n",
        "file.read():\n",
        "\n",
        "- Reads the entire content of the file at once.\n",
        "- Returns a single string containing all the characters from the file.\n",
        "- The file pointer moves to the end of the file after reading.\n",
        "\n",
        "file.readline():\n",
        "\n",
        "- Reads the next line from the file each time it's called.\n",
        "- Returns a string containing just one line from the file, including the newline character (\\n).\n",
        "- The file pointer moves to the next line after reading.\n"
      ],
      "metadata": {
        "id": "F4f84-5pfSI_"
      }
    },
    {
      "cell_type": "markdown",
      "source": [
        "21. What is the logging module in Python used for/\n",
        "\n",
        "Here’s a short brief about Python’s logging module with key points:\n",
        "\n",
        "Purpose: Used to log events during program execution for tracking, debugging, and troubleshooting.\n",
        "\n",
        "1.Logging Levels:\n",
        "- DEBUG: Detailed information (used for troubleshooting).\n",
        "- INFO: General information about execution.\n",
        "- WARNING: Indicates a potential issue.\n",
        "- ERROR: Indicates an issue that doesn't stop the program.\n",
        "- CRITICAL: A serious error that might stop the program.\n",
        "2.Handlers: Direct logs to different destinations (e.g., console, files, remote services).\n",
        "3.Log Format: Customize the format to include time, log level, message, etc.\n",
        "4.Configuration: Can be configured programmatically or via configuration files.\n"
      ],
      "metadata": {
        "id": "-cFgF3jFkdyJ"
      }
    },
    {
      "cell_type": "markdown",
      "source": [
        "22. What is the os module in Python used for in file handling?\n",
        " - The os module in Python is used for file handling and interacting with the operating system. Key functions include:\n",
        "\n",
        "- 1.Path Manipulation:\n",
        "\n",
        "   os.path.join(), os.path.exists(), os.path.isfile()\n",
        "\n",
        "- 2.Directory Operations:\n",
        "\n",
        "  os.mkdir(), os.rmdir(), os.remove(), os.rename(), os.listdir()\n",
        "\n",
        "- 3.File Permissions:\n",
        "\n",
        "  os.chmod(), os.chown()\n",
        "\n",
        "- 4.Current Directory:\n",
        "\n",
        "  os.getcwd(), os.chdir()\n",
        "\n",
        "- 5.Low-Level File Operations:\n",
        "\n",
        "  os.open(), os.read(), os.write()\n"
      ],
      "metadata": {
        "id": "nTJ4BBlFxzVx"
      }
    },
    {
      "cell_type": "markdown",
      "source": [
        "23. What are the challenges associated with memory management in ?\n",
        "  - Here’s a brief summary of the challenges associated with memory management in Python:\n",
        "\n",
        "- 1.Automatic Memory Management:\n",
        "\n",
        " - Reference counting and garbage collection can struggle with circular references, leading to memory leaks.\n",
        "\n",
        "- 2.Memory Fragmentation:\n",
        "\n",
        "  - Dynamic memory allocation can cause fragmentation, leading to inefficient memory usage.\n",
        "\n",
        "- 3.Memory Leaks:\n",
        "\n",
        "  - Circular references, unintentional global references, and third-party libraries can prevent memory from being released.\n",
        "- 4.High Memory Consumption:\n",
        "\n",
        "  - Python’s data structures have overhead, and integer caching can cause higher memory usage than expected.\n",
        "- 5.Large Object Handling:\n",
        "\n",
        "  - Managing large datasets can be inefficient, especially with memory fragmentation.\n",
        "- 6.Performance Overhead:\n",
        "\n",
        "  - Garbage collection and dynamic memory allocation can introduce performance degradation.\n",
        "- 7.Multi-threading Challenges:\n",
        "\n",
        "  - The GIL can complicate shared memory management in multi-threaded applications.\n",
        "- 8.Optimization Difficulty:\n",
        "\n",
        "  - Writing memory-efficient code for large data can be challenging.\n",
        "- 9.Non-Deterministic Garbage Collection:\n",
        "\n",
        "  - Garbage collection timing is unpredictable, which can lead to inconsistent -\n",
        "memory release.\n",
        "- 10.Platform Differences:\n",
        "\n",
        "  - Memory management behavior can vary across different platforms and Python versions.\n"
      ],
      "metadata": {
        "id": "7x8LZg8EynHQ"
      }
    },
    {
      "cell_type": "markdown",
      "source": [
        "24.  How do you raise an exception manually in Python?\n",
        "  - In Python, you can raise an exception manually using the raise keyword followed by an instance of the exception you want to raise.\n",
        "\n",
        "Here’s an example of how to raise a built-in exception like ValueError:\n",
        "\n",
        "raise ValueError(\"This is a custom error message\")\n",
        "\n",
        "You can also raise custom exceptions by defining your own exception class:\n",
        "\n",
        "class MyCustomError(Exception):\n",
        "    pass\n",
        "\n",
        "raise MyCustomError(\"Something went wrong!\")\n",
        "\n",
        "This will stop the normal flow of the program and raise the specified exception, which can then be caught by an appropriate try/except block if needed.\n",
        "\n",
        "\n",
        "\n",
        "\n"
      ],
      "metadata": {
        "id": "6O8iJ0-v1K24"
      }
    },
    {
      "cell_type": "markdown",
      "source": [
        "25.  Why is it important to use multithreading in certain applications?\n",
        " - Multithreading is important in certain applications because it allows multiple tasks or processes to run concurrently within a single program, improving performance, responsiveness, and resource utilization. Here are some key reasons why it's important:\n",
        "\n",
        "1.Improved Performance: Multithreading enables parallel execution of tasks, which can lead to better utilization of multi-core processors. This helps speed up computations or tasks that can be performed independently.\n",
        "\n",
        "2.Better Resource Utilization: Multithreading allows a program to make full use of available CPU resources. Without it, a program might only use a single core, leaving other cores idle.\n",
        "\n",
        "3.Enhanced Responsiveness: In applications with a user interface (UI), such as desktop or mobile applications, multithreading allows the UI to remain responsive while performing background tasks (e.g., downloading files, processing data).\n",
        "\n",
        "4.Efficiency in I/O-bound Applications: For applications that are waiting for I/O operations (like reading from or writing to a file, or network communication), multithreading allows one thread to perform I/O operations while others continue processing data, reducing idle time.\n",
        "\n",
        "5.Real-time Processing: In real-time systems or applications that require constant updates (e.g., video streaming, gaming, or financial trading), multithreading ensures that different components (like user input, rendering, and background data processing) can run simultaneously without blocking each other.\n",
        "\n",
        "Scalability: Applications that need to handle a growing number of tasks, requests, or users benefit from multithreading because it allows them to scale more effectively on multi-core systems, making the application capable of handling a larger load.\n"
      ],
      "metadata": {
        "id": "8Oa88aQa4D-b"
      }
    },
    {
      "cell_type": "code",
      "source": [
        "try:\n",
        "    # Open the file in exclusive creation mode ('x')\n",
        "    with open('example.txt', 'x') as file:\n",
        "        file.write('This file is created and written to.')\n",
        "except FileExistsError:\n",
        "    print(\"The file already exists.\")\n"
      ],
      "metadata": {
        "colab": {
          "base_uri": "https://localhost:8080/"
        },
        "id": "4fSDMEVIux_7",
        "outputId": "f9947a7b-d8d5-4179-f695-689b9020c975"
      },
      "execution_count": null,
      "outputs": [
        {
          "output_type": "stream",
          "name": "stdout",
          "text": [
            "The file already exists.\n"
          ]
        }
      ]
    },
    {
      "cell_type": "code",
      "source": [
        "# Open the file in read mode\n",
        "filename = 'example.txt'  # Replace with the path of your file\n",
        "try:\n",
        "    with open(filename, 'r') as file:\n",
        "        # Read and print each line in the file\n",
        "        for line in file:\n",
        "            print(line, end='')  # The end='' prevents adding extra newlines\n",
        "except FileNotFoundError:\n",
        "    print(f\"The file '{filename}' does not exist.\")\n",
        "except Exception as e:\n",
        "    print(f\"An error occurred: {e}\")\n"
      ],
      "metadata": {
        "colab": {
          "base_uri": "https://localhost:8080/"
        },
        "id": "bIhWAe5Ku7IR",
        "outputId": "db8ea14a-ef85-47b2-c87e-bcd624dd57f2"
      },
      "execution_count": null,
      "outputs": [
        {
          "output_type": "stream",
          "name": "stdout",
          "text": [
            "Hello, this is a test string."
          ]
        }
      ]
    },
    {
      "cell_type": "code",
      "source": [
        "try:\n",
        "    # Try to open the file for reading\n",
        "    with open('example.txt', 'r') as file:\n",
        "        # Read the file content\n",
        "        content = file.read()\n",
        "        print(content)\n",
        "except FileNotFoundError:\n",
        "    # Handle the case where the file doesn't exist\n",
        "    print(\"The file 'example.txt' does not exist.\")\n"
      ],
      "metadata": {
        "colab": {
          "base_uri": "https://localhost:8080/"
        },
        "id": "zU_cIebzu9Tv",
        "outputId": "3a93d865-01ea-4bec-83fa-e78ebae729bd"
      },
      "execution_count": null,
      "outputs": [
        {
          "output_type": "stream",
          "name": "stdout",
          "text": [
            "Hello, this is a test string.\n"
          ]
        }
      ]
    },
    {
      "cell_type": "code",
      "source": [
        "# Specify the input and output file paths\n",
        "input_file = 'input.txt'\n",
        "output_file = 'output.txt'\n",
        "\n",
        "# Open the input file in read mode and the output file in write mode\n",
        "with open(input_file, 'r') as infile:\n",
        "    content = infile.read()\n",
        "\n",
        "with open(output_file, 'w') as outfile:\n",
        "    outfile.write(content)\n",
        "\n",
        "print(f\"Content from {input_file} has been copied to {output_file}.\")\n"
      ],
      "metadata": {
        "colab": {
          "base_uri": "https://localhost:8080/",
          "height": 211
        },
        "id": "SuJ2aJDjwLjW",
        "outputId": "1b3bc948-2597-4bc5-f9f0-d1ebc88ec278"
      },
      "execution_count": null,
      "outputs": [
        {
          "output_type": "error",
          "ename": "FileNotFoundError",
          "evalue": "[Errno 2] No such file or directory: 'input.txt'",
          "traceback": [
            "\u001b[0;31m---------------------------------------------------------------------------\u001b[0m",
            "\u001b[0;31mFileNotFoundError\u001b[0m                         Traceback (most recent call last)",
            "\u001b[0;32m<ipython-input-9-a3ca90d477fd>\u001b[0m in \u001b[0;36m<cell line: 0>\u001b[0;34m()\u001b[0m\n\u001b[1;32m      4\u001b[0m \u001b[0;34m\u001b[0m\u001b[0m\n\u001b[1;32m      5\u001b[0m \u001b[0;31m# Open the input file in read mode and the output file in write mode\u001b[0m\u001b[0;34m\u001b[0m\u001b[0;34m\u001b[0m\u001b[0m\n\u001b[0;32m----> 6\u001b[0;31m \u001b[0;32mwith\u001b[0m \u001b[0mopen\u001b[0m\u001b[0;34m(\u001b[0m\u001b[0minput_file\u001b[0m\u001b[0;34m,\u001b[0m \u001b[0;34m'r'\u001b[0m\u001b[0;34m)\u001b[0m \u001b[0;32mas\u001b[0m \u001b[0minfile\u001b[0m\u001b[0;34m:\u001b[0m\u001b[0;34m\u001b[0m\u001b[0;34m\u001b[0m\u001b[0m\n\u001b[0m\u001b[1;32m      7\u001b[0m     \u001b[0mcontent\u001b[0m \u001b[0;34m=\u001b[0m \u001b[0minfile\u001b[0m\u001b[0;34m.\u001b[0m\u001b[0mread\u001b[0m\u001b[0;34m(\u001b[0m\u001b[0;34m)\u001b[0m\u001b[0;34m\u001b[0m\u001b[0;34m\u001b[0m\u001b[0m\n\u001b[1;32m      8\u001b[0m \u001b[0;34m\u001b[0m\u001b[0m\n",
            "\u001b[0;31mFileNotFoundError\u001b[0m: [Errno 2] No such file or directory: 'input.txt'"
          ]
        }
      ]
    },
    {
      "cell_type": "code",
      "source": [
        "try:\n",
        "    result = 10 / 0\n",
        "except ZeroDivisionError:\n",
        "    print(\"Error: Cannot divide by zero!\")\n",
        "else:\n",
        "    print(\"Result:\", result)\n",
        "finally:\n",
        "    print(\"This block runs no matter what.\")\n"
      ],
      "metadata": {
        "colab": {
          "base_uri": "https://localhost:8080/"
        },
        "id": "Z0FIdv8ov_eJ",
        "outputId": "e2d125e8-e252-43bc-e16a-fefd0d162bcf"
      },
      "execution_count": null,
      "outputs": [
        {
          "output_type": "stream",
          "name": "stdout",
          "text": [
            "Error: Cannot divide by zero!\n",
            "This block runs no matter what.\n"
          ]
        }
      ]
    },
    {
      "cell_type": "code",
      "source": [
        "import logging\n",
        "\n",
        "# Set up logging configuration\n",
        "logging.basicConfig(\n",
        "    filename='error_log.txt',  # Log file where errors will be stored\n",
        "    level=logging.ERROR,       # Log only ERROR level messages\n",
        "    format='%(asctime)s - %(levelname)s - %(message)s'  # Log format with timestamp\n",
        ")\n",
        "\n",
        "def divide(a, b):\n",
        "    try:\n",
        "        result = a / b\n",
        "        return result\n",
        "    except ZeroDivisionError as e:\n",
        "        logging.error(f\"Error: Division by zero when trying to divide {a} by {b}\")\n",
        "        return None\n",
        "\n",
        "# Example usage\n",
        "num1 = 10\n",
        "num2 = 0\n",
        "\n",
        "result = divide(num1, num2)\n",
        "if result is None:\n",
        "    print(\"Division by zero occurred. Check the log file for details.\")\n",
        "else:\n",
        "    print(f\"The result is {result}\")\n"
      ],
      "metadata": {
        "colab": {
          "base_uri": "https://localhost:8080/"
        },
        "id": "oVaK7XVhwcI2",
        "outputId": "40c8b17b-b5a1-4758-e006-ad5c0bb90810"
      },
      "execution_count": null,
      "outputs": [
        {
          "output_type": "stream",
          "name": "stderr",
          "text": [
            "ERROR:root:Error: Division by zero when trying to divide 10 by 0\n"
          ]
        },
        {
          "output_type": "stream",
          "name": "stdout",
          "text": [
            "Division by zero occurred. Check the log file for details.\n"
          ]
        }
      ]
    },
    {
      "cell_type": "code",
      "source": [
        "import logging\n",
        "\n",
        "# Set up logging configuration\n",
        "logging.basicConfig(level=logging.DEBUG,\n",
        "                    format='%(asctime)s - %(levelname)s - %(message)s')\n",
        "\n",
        "# Example logs at different levels\n",
        "logging.debug('This is a debug message.')\n",
        "logging.info('This is an info message.')\n",
        "logging.warning('This is a warning message.')\n",
        "logging.error('This is an error message.')\n",
        "logging.critical('This is a critical message.')\n"
      ],
      "metadata": {
        "colab": {
          "base_uri": "https://localhost:8080/"
        },
        "id": "yw0D50cvwoBP",
        "outputId": "79d5270b-ab88-4ddb-ef5f-b81cf752b528"
      },
      "execution_count": null,
      "outputs": [
        {
          "output_type": "stream",
          "name": "stderr",
          "text": [
            "WARNING:root:This is a warning message.\n",
            "ERROR:root:This is an error message.\n",
            "CRITICAL:root:This is a critical message.\n"
          ]
        }
      ]
    },
    {
      "cell_type": "code",
      "source": [
        "try:\n",
        "    # Attempt to open a file\n",
        "    file = open('example.txt', 'r')\n",
        "    # Read the contents of the file\n",
        "    content = file.read()\n",
        "    print(content)\n",
        "\n",
        "except FileNotFoundError:\n",
        "    # Handle the error if the file is not found\n",
        "    print(\"Error: The file does not exist.\")\n",
        "\n",
        "except IOError:\n",
        "    # Handle other input/output errors\n",
        "    print(\"Error: An I/O error occurred while trying to open the file.\")\n",
        "\n",
        "finally:\n",
        "    # Ensure that the file is closed if it was opened\n",
        "    try:\n",
        "        file.close()\n",
        "        print(\"File has been closed.\")\n",
        "    except:\n",
        "        pass\n"
      ],
      "metadata": {
        "colab": {
          "base_uri": "https://localhost:8080/"
        },
        "id": "IqHJd3ODw2b1",
        "outputId": "60208ba8-33ed-4693-fe9c-085bef161e57"
      },
      "execution_count": null,
      "outputs": [
        {
          "output_type": "stream",
          "name": "stdout",
          "text": [
            "Hello, this is a test string.\n",
            "File has been closed.\n"
          ]
        }
      ]
    },
    {
      "cell_type": "code",
      "source": [
        "# Open the file in append mode ('a')\n",
        "with open('example.txt', 'a') as file:\n",
        "    lines = [\"First new line\\n\", \"Second new line\\n\"]\n",
        "    file.writelines(lines)\n"
      ],
      "metadata": {
        "id": "kr6A1rRhxgqD"
      },
      "execution_count": null,
      "outputs": []
    },
    {
      "cell_type": "code",
      "source": [
        "# Sample dictionary\n",
        "my_dict = {'name': 'John', 'age': 30, 'city': 'New York'}\n",
        "\n",
        "# Try to access a key that doesn't exist in the dictionary\n",
        "key_to_access = 'address'\n",
        "\n",
        "try:\n",
        "    # Attempting to access a non-existing key\n",
        "    value = my_dict[key_to_access]\n",
        "    print(f\"The value for '{key_to_access}' is {value}\")\n",
        "except KeyError:\n",
        "    # Handle the case where the key doesn't exist\n",
        "    print(f\"Error: The key '{key_to_access}' does not exist in the dictionary.\")\n"
      ],
      "metadata": {
        "colab": {
          "base_uri": "https://localhost:8080/"
        },
        "id": "KbC0MhVN1D3g",
        "outputId": "8ada4e9a-43a5-4f34-e09e-e55c275b537f"
      },
      "execution_count": null,
      "outputs": [
        {
          "output_type": "stream",
          "name": "stdout",
          "text": [
            "Error: The key 'address' does not exist in the dictionary.\n"
          ]
        }
      ]
    },
    {
      "cell_type": "code",
      "source": [
        "def handle_exceptions():\n",
        "    try:\n",
        "        # Trying to divide by zero, which will raise a ZeroDivisionError\n",
        "        num1 = int(input(\"Enter the first number: \"))\n",
        "        num2 = int(input(\"Enter the second number: \"))\n",
        "        result = num1 / num2\n",
        "        print(f\"The result is: {result}\")\n",
        "\n",
        "    except ZeroDivisionError:\n",
        "        print(\"Error: Cannot divide by zero!\")\n",
        "\n",
        "    except ValueError:\n",
        "        print(\"Error: Please enter a valid integer!\")\n",
        "\n",
        "    except Exception as e:\n",
        "        print(f\"An unexpected error occurred: {e}\")\n",
        "\n",
        "# Call the function to test the program\n",
        "handle_exceptions()\n"
      ],
      "metadata": {
        "colab": {
          "base_uri": "https://localhost:8080/"
        },
        "id": "S04I30JZ1STZ",
        "outputId": "b30f095f-4ac5-4148-d912-b018beee6591"
      },
      "execution_count": null,
      "outputs": [
        {
          "output_type": "stream",
          "name": "stdout",
          "text": [
            "Enter the first number: 15\n",
            "Enter the second number: 26\n",
            "The result is: 0.5769230769230769\n"
          ]
        }
      ]
    },
    {
      "cell_type": "code",
      "source": [
        "import os\n",
        "\n",
        "file_path = 'example.txt'\n",
        "\n",
        "if os.path.exists(file_path):\n",
        "    with open(file_path, 'r') as file:\n",
        "        content = file.read()\n",
        "        print(content)\n",
        "else:\n",
        "    print(f\"The file {file_path} does not exist.\")\n"
      ],
      "metadata": {
        "colab": {
          "base_uri": "https://localhost:8080/"
        },
        "id": "95D1tAim1j92",
        "outputId": "a3e79f40-2c65-4036-d9a4-fcada8d594d7"
      },
      "execution_count": null,
      "outputs": [
        {
          "output_type": "stream",
          "name": "stdout",
          "text": [
            "Hello, this is a test string.This is the new data to append.\n",
            "First new line\n",
            "Second new line\n",
            "\n"
          ]
        }
      ]
    },
    {
      "cell_type": "code",
      "source": [
        "import logging\n",
        "\n",
        "# Set up logging configuration\n",
        "logging.basicConfig(\n",
        "    level=logging.DEBUG,  # Set the logging level to capture all messages (DEBUG and above)\n",
        "    format='%(asctime)s - %(levelname)s - %(message)s',  # Customize the log format\n",
        ")\n",
        "\n",
        "# Informational message\n",
        "logging.info(\"This is an informational message.\")\n",
        "\n",
        "# Error message\n",
        "try:\n",
        "    1 / 0  # This will cause a ZeroDivisionError\n",
        "except ZeroDivisionError as e:\n",
        "    logging.error(f\"An error occurred: {e}\")\n",
        "\n",
        "# Another informational message\n",
        "logging.info(\"The program completed successfully.\")\n"
      ],
      "metadata": {
        "colab": {
          "base_uri": "https://localhost:8080/"
        },
        "id": "XL3snqJu2dL8",
        "outputId": "49079008-389d-48ba-bc6c-bc95e9af4fb3"
      },
      "execution_count": null,
      "outputs": [
        {
          "output_type": "stream",
          "name": "stderr",
          "text": [
            "ERROR:root:An error occurred: division by zero\n"
          ]
        }
      ]
    },
    {
      "cell_type": "code",
      "source": [
        "def print_file_content(file_path):\n",
        "    try:\n",
        "        with open(file_path, 'r') as file:\n",
        "            content = file.read()\n",
        "\n",
        "            if content:  # Check if the content is not empty\n",
        "                print(content)\n",
        "            else:\n",
        "                print(\"The file is empty.\")\n",
        "    except FileNotFoundError:\n",
        "        print(f\"The file '{file_path}' was not found.\")\n",
        "    except IOError:\n",
        "        print(f\"An error occurred while trying to read the file '{file_path}'.\")\n",
        "\n",
        "# Example usage\n",
        "file_path = 'example.txt'  # Replace with the path to your file\n",
        "print_file_content(file_path)\n"
      ],
      "metadata": {
        "colab": {
          "base_uri": "https://localhost:8080/"
        },
        "id": "_OE7kErf3RQf",
        "outputId": "575a8d95-fca0-416c-c712-a919182a137d"
      },
      "execution_count": null,
      "outputs": [
        {
          "output_type": "stream",
          "name": "stdout",
          "text": [
            "Hello, this is a test string.This is the new data to append.\n",
            "First new line\n",
            "Second new line\n",
            "\n"
          ]
        }
      ]
    },
    {
      "cell_type": "code",
      "source": [
        "# List of numbers to write to the file\n",
        "numbers = [1, 2, 3, 4, 5, 6, 7, 8, 9, 10]\n",
        "\n",
        "# Open the file in write mode\n",
        "with open(\"numbers.txt\", \"w\") as file:\n",
        "    # Write each number to the file on a new line\n",
        "    for number in numbers:\n",
        "        file.write(f\"{number}\\n\")\n",
        "\n",
        "print(\"Numbers have been written to numbers.txt.\")\n"
      ],
      "metadata": {
        "colab": {
          "base_uri": "https://localhost:8080/"
        },
        "id": "4KW1GanO8umA",
        "outputId": "8c9b0f34-1107-45d7-a8ad-5101ad03fe88"
      },
      "execution_count": null,
      "outputs": [
        {
          "output_type": "stream",
          "name": "stdout",
          "text": [
            "Numbers have been written to numbers.txt.\n"
          ]
        }
      ]
    },
    {
      "cell_type": "code",
      "source": [
        "import logging\n",
        "from logging.handlers import RotatingFileHandler\n",
        "\n",
        "# Set up logging\n",
        "log_file = \"app.log\"\n",
        "\n",
        "# Create a RotatingFileHandler that will create a new log file after it reaches 1MB\n",
        "handler = RotatingFileHandler(log_file, maxBytes=1e6, backupCount=3)  # 1e6 bytes = 1MB\n",
        "\n",
        "# Set log format\n",
        "formatter = logging.Formatter('%(asctime)s - %(name)s - %(levelname)s - %(message)s')\n",
        "handler.setFormatter(formatter)\n",
        "\n",
        "# Get the root logger and add the handler\n",
        "logger = logging.getLogger()\n",
        "logger.setLevel(logging.DEBUG)  # Set to DEBUG to capture all messages\n",
        "logger.addHandler(handler)\n",
        "\n",
        "# Example usage\n",
        "logger.debug(\"This is a debug message.\")\n",
        "logger.info(\"This is an info message.\")\n",
        "logger.warning(\"This is a warning message.\")\n",
        "logger.error(\"This is an error message.\")\n",
        "logger.critical(\"This is a critical message.\")\n"
      ],
      "metadata": {
        "colab": {
          "base_uri": "https://localhost:8080/"
        },
        "id": "P8OPfSlA86s9",
        "outputId": "50a5c7c7-3a80-42ab-a731-6fa7ee07f6f4"
      },
      "execution_count": null,
      "outputs": [
        {
          "output_type": "stream",
          "name": "stderr",
          "text": [
            "DEBUG:root:This is a debug message.\n",
            "INFO:root:This is an info message.\n",
            "WARNING:root:This is a warning message.\n",
            "ERROR:root:This is an error message.\n",
            "CRITICAL:root:This is a critical message.\n"
          ]
        }
      ]
    },
    {
      "cell_type": "code",
      "source": [
        "def handle_errors():\n",
        "    my_list = [1, 2, 3]\n",
        "    my_dict = {'a': 1, 'b': 2}\n",
        "\n",
        "    try:\n",
        "        # Attempting to access an index that doesn't exist\n",
        "        index_value = my_list[5]\n",
        "\n",
        "        # Attempting to access a key that doesn't exist in the dictionary\n",
        "        key_value = my_dict['c']\n",
        "\n",
        "    except IndexError as e:\n",
        "        print(f\"IndexError occurred: {e}\")\n",
        "\n",
        "    except KeyError as e:\n",
        "        print(f\"KeyError occurred: {e}\")\n",
        "\n",
        "    else:\n",
        "        print(\"No error occurred!\")\n",
        "\n",
        "    finally:\n",
        "        print(\"Execution completed.\")\n",
        "\n",
        "# Run the function\n",
        "handle_errors()\n"
      ],
      "metadata": {
        "colab": {
          "base_uri": "https://localhost:8080/"
        },
        "id": "Fn4lNbKZ9D_9",
        "outputId": "ed4535f7-bbe9-4a66-f60c-bf0753e00ccc"
      },
      "execution_count": null,
      "outputs": [
        {
          "output_type": "stream",
          "name": "stdout",
          "text": [
            "IndexError occurred: list index out of range\n",
            "Execution completed.\n"
          ]
        }
      ]
    },
    {
      "cell_type": "code",
      "source": [
        "def count_word_in_file(filename, word):\n",
        "    try:\n",
        "        # Open the file in read mode\n",
        "        with open(filename, 'r') as file:\n",
        "            # Read the content of the file\n",
        "            content = file.read()\n",
        "\n",
        "            # Count the occurrences of the specific word (case insensitive)\n",
        "            word_count = content.lower().split().count(word.lower())\n",
        "\n",
        "            # Print the result\n",
        "            print(f\"The word '{word}' occurs {word_count} times in the file.\")\n",
        "\n",
        "    except FileNotFoundError:\n",
        "        print(f\"The file '{filename}' was not found.\")\n",
        "    except Exception as e:\n",
        "        print(f\"An error occurred: {e}\")\n",
        "\n",
        "# Example usage\n",
        "filename = 'example.txt'  # Replace with the path to your file\n",
        "word = 'your_word'        # Replace with the word you want to count\n",
        "count_word_in_file(filename, word)\n"
      ],
      "metadata": {
        "colab": {
          "base_uri": "https://localhost:8080/"
        },
        "id": "2p3EGzLq9ssa",
        "outputId": "0e70614f-3982-4e23-8c85-3fbce8eaa4a1"
      },
      "execution_count": null,
      "outputs": [
        {
          "output_type": "stream",
          "name": "stdout",
          "text": [
            "The word 'your_word' occurs 0 times in the file.\n"
          ]
        }
      ]
    },
    {
      "cell_type": "code",
      "source": [
        "# Function to count the occurrences of a word in a file\n",
        "def count_word_occurrences(filename, word):\n",
        "    try:\n",
        "        # Open the file in read mode\n",
        "        with open(filename, 'r') as file:\n",
        "            content = file.read()  # Read the entire file\n",
        "            word_count = content.lower().split().count(word.lower())  # Count occurrences of the word (case-insensitive)\n",
        "\n",
        "        # Print the number of occurrences\n",
        "        return word_count\n",
        "\n",
        "    except FileNotFoundError:\n",
        "        return f\"The file {filename} was not found.\"\n",
        "    except Exception as e:\n",
        "        return str(e)\n",
        "\n",
        "# Input from the user\n",
        "filename = input(\"Enter the file name: \")\n",
        "word = input(\"Enter the word to search for: \")\n",
        "\n",
        "# Get the number of occurrences\n",
        "occurrences = count_word_occurrences(filename, word)\n",
        "\n",
        "# Output the result\n"
      ],
      "metadata": {
        "colab": {
          "base_uri": "https://localhost:8080/"
        },
        "id": "bI-WQtAr91q1",
        "outputId": "ebc7721e-790d-435c-a4e0-611d9e8ce9fc"
      },
      "execution_count": null,
      "outputs": [
        {
          "name": "stdout",
          "output_type": "stream",
          "text": [
            "Enter the file name: word\n",
            "Enter the word to search for: w\n"
          ]
        }
      ]
    },
    {
      "cell_type": "code",
      "source": [
        "import logging\n",
        "\n",
        "# Configure the logging\n",
        "logging.basicConfig(filename='error_log.txt', level=logging.ERROR,\n",
        "                    format='%(asctime)s - %(levelname)s - %(message)s')\n",
        "\n",
        "def file_handling(file_path):\n",
        "    try:\n",
        "        # Attempt to open the file and perform an operation\n",
        "        with open(file_path, 'r') as file:\n",
        "            content = file.read()\n",
        "            print(content)\n",
        "    except Exception as e:\n",
        "        # Log the error if one occurs\n",
        "        logging.error(f\"Error occurred while handling the file '{file_path}': {e}\")\n",
        "        print(f\"An error occurred. Please check the log file for details.\")\n",
        "\n",
        "# Example usage\n",
        "file_path = 'non_existent_file.txt'\n",
        "file_handling(file_path)\n"
      ],
      "metadata": {
        "colab": {
          "base_uri": "https://localhost:8080/"
        },
        "id": "twJyfdXAa3t4",
        "outputId": "66a998b3-62ae-441c-adaf-76f6f2b861a0"
      },
      "execution_count": null,
      "outputs": [
        {
          "output_type": "stream",
          "name": "stderr",
          "text": [
            "ERROR:root:Error occurred while handling the file 'non_existent_file.txt': [Errno 2] No such file or directory: 'non_existent_file.txt'\n"
          ]
        },
        {
          "output_type": "stream",
          "name": "stdout",
          "text": [
            "An error occurred. Please check the log file for details.\n"
          ]
        }
      ]
    }
  ]
}